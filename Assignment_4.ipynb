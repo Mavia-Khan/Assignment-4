{
 "cells": [
  {
   "cell_type": "code",
   "execution_count": 1,
   "id": "e4dff2cf",
   "metadata": {},
   "outputs": [
    {
     "name": "stdout",
     "output_type": "stream",
     "text": [
      "Enter the first number5\n",
      "Enter the second number7\n",
      "+, -, x, /, x2\n",
      "select the operator +\n",
      "12\n"
     ]
    }
   ],
   "source": [
    "a=int(input(\"Enter the first number\"))\n",
    "b=int(input(\"Enter the second number\"))\n",
    "print(\"+,\",\"-,\",\"x,\",\"/,\",\"x2\")\n",
    "operator=input(\"select the operator \")\n",
    "if(operator=='+'):\n",
    "    c=a+b\n",
    "    print(c)\n",
    "elif(operator=='-'):\n",
    "    c=a-b\n",
    "    print(c)\n",
    "elif(operator=='/'):\n",
    "    c=a/b\n",
    "    print(c)\n",
    "elif(operator=='x'):\n",
    "    c=a*b\n",
    "    print(c)\n",
    "elif(operator=='x2'):\n",
    "    c=a**2\n",
    "    print(c)\n",
    "else:\n",
    "    print(\"please enter the operator\")"
   ]
  },
  {
   "cell_type": "code",
   "execution_count": 2,
   "id": "c601eef2",
   "metadata": {},
   "outputs": [
    {
     "data": {
      "text/plain": [
       "{1: 2, 3: 2, 5: 6, 7: 8}"
      ]
     },
     "execution_count": 2,
     "metadata": {},
     "output_type": "execute_result"
    }
   ],
   "source": [
    "b={1:2,3:2,5:6}\n",
    "b[7]=8\n",
    "b"
   ]
  },
  {
   "cell_type": "code",
   "execution_count": 3,
   "id": "0b9c1c0f",
   "metadata": {},
   "outputs": [
    {
     "name": "stdout",
     "output_type": "stream",
     "text": [
      "13\n"
     ]
    }
   ],
   "source": [
    "a={'item_1':2,'item_2':4,'item_3':7}\n",
    "print(sum(a.values()))"
   ]
  },
  {
   "cell_type": "code",
   "execution_count": 4,
   "id": "8089c81c",
   "metadata": {},
   "outputs": [
    {
     "name": "stdout",
     "output_type": "stream",
     "text": [
      "[2, 5]\n"
     ]
    }
   ],
   "source": [
    "lst=[1,3,2,9,3,2,0,7]\n",
    "lst2=[i for i in range(len(lst)) if lst[i]==lst[2]]\n",
    "print(lst2)"
   ]
  },
  {
   "cell_type": "code",
   "execution_count": 6,
   "id": "5e9236fe",
   "metadata": {},
   "outputs": [
    {
     "name": "stdout",
     "output_type": "stream",
     "text": [
      "dict_keys(['a', 'b', 'c'])\n",
      "Enter the new key  b\n",
      "key already exit\n"
     ]
    }
   ],
   "source": [
    "d={'a':1,'b':2,'c':3}\n",
    "d2=[]\n",
    "print(d.keys())\n",
    "inp=input(\"Enter the new key  \")\n",
    "if inp in d.keys():\n",
    "    print(\"key already exit\")\n",
    "else:\n",
    "    d2.append(inp)\n",
    "    print(d2)"
   ]
  },
  {
   "cell_type": "code",
   "execution_count": null,
   "id": "5684dcab",
   "metadata": {},
   "outputs": [],
   "source": [
    "lst=[1,2,\"saturday\",8.9]\n",
    "print(lst[0].isdigit())\n"
   ]
  }
 ],
 "metadata": {
  "kernelspec": {
   "display_name": "Python 3",
   "language": "python",
   "name": "python3"
  },
  "language_info": {
   "codemirror_mode": {
    "name": "ipython",
    "version": 3
   },
   "file_extension": ".py",
   "mimetype": "text/x-python",
   "name": "python",
   "nbconvert_exporter": "python",
   "pygments_lexer": "ipython3",
   "version": "3.8.8"
  }
 },
 "nbformat": 4,
 "nbformat_minor": 5
}
